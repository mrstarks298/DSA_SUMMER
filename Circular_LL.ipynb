{
 "cells": [
  {
   "cell_type": "code",
   "execution_count": 2,
   "metadata": {},
   "outputs": [],
   "source": [
    "class CircularSinglyLinkedListNode:\n",
    "    def __init__(self, data):\n",
    "        self.data = data\n",
    "        self.next = None\n",
    "\n",
    "class CircularSinglyLinkedList:\n",
    "    def __init__(self):\n",
    "        self.head = None\n",
    "\n",
    "    def insert_at_beginning(self, data):\n",
    "        new_node = CircularSinglyLinkedListNode(data)\n",
    "        if self.head is None:\n",
    "            self.head = new_node\n",
    "            new_node.next = self.head\n",
    "        else:\n",
    "            new_node.next = self.head\n",
    "            temp = self.head\n",
    "            while temp.next != self.head:\n",
    "                temp = temp.next\n",
    "            temp.next = new_node\n",
    "            self.head = new_node\n",
    "\n",
    "    def insert_at_end(self, data):\n",
    "        new_node = CircularSinglyLinkedListNode(data)\n",
    "        if self.head is None:\n",
    "            self.head = new_node\n",
    "            new_node.next = self.head\n",
    "        else:\n",
    "            temp = self.head\n",
    "            while temp.next != self.head:\n",
    "                temp = temp.next\n",
    "            temp.next = new_node\n",
    "            new_node.next = self.head\n",
    "\n",
    "    def delete_node(self, key):\n",
    "        if self.head is None:\n",
    "            return\n",
    "\n",
    "        temp = self.head\n",
    "        prev = None\n",
    "\n",
    "        if temp.data == key and temp.next == self.head:\n",
    "            self.head = None\n",
    "            return\n",
    "\n",
    "        if temp.data == key:\n",
    "            while temp.next != self.head:\n",
    "                temp = temp.next\n",
    "            temp.next = self.head.next\n",
    "            self.head = self.head.next\n",
    "            return\n",
    "\n",
    "        while True:\n",
    "            prev = temp\n",
    "            temp = temp.next\n",
    "            if temp.data == key:\n",
    "                prev.next = temp.next\n",
    "                if temp == self.head:\n",
    "                    self.head = prev.next\n",
    "                return\n",
    "            if temp == self.head:\n",
    "                break\n",
    "\n",
    "    def search(self, key):\n",
    "        if self.head is None:\n",
    "            return False\n",
    "\n",
    "        temp = self.head\n",
    "        while True:\n",
    "            if temp.data == key:\n",
    "                return True\n",
    "            temp = temp.next\n",
    "            if temp == self.head:\n",
    "                return False\n",
    "\n",
    "    def print_list(self):\n",
    "        if self.head is None:\n",
    "            print(\"List is empty\")\n",
    "            return\n",
    "        temp = self.head\n",
    "        while True:\n",
    "            print(temp.data, end=\" -> \")\n",
    "            temp = temp.next\n",
    "            if temp == self.head:\n",
    "                print(\"HEAD\")\n",
    "                return"
   ]
  },
  {
   "cell_type": "code",
   "execution_count": 3,
   "metadata": {},
   "outputs": [],
   "source": [
    "csll = CircularSinglyLinkedList()\n",
    "csll.insert_at_beginning(1)"
   ]
  },
  {
   "cell_type": "code",
   "execution_count": 4,
   "metadata": {},
   "outputs": [],
   "source": [
    "csll.insert_at_end(2)\n",
    "csll.insert_at_end(3)"
   ]
  },
  {
   "cell_type": "code",
   "execution_count": 5,
   "metadata": {},
   "outputs": [
    {
     "name": "stdout",
     "output_type": "stream",
     "text": [
      "1 -> 2 -> 3 -> HEAD\n"
     ]
    }
   ],
   "source": [
    "csll.print_list()"
   ]
  },
  {
   "cell_type": "code",
   "execution_count": 7,
   "metadata": {},
   "outputs": [
    {
     "name": "stdout",
     "output_type": "stream",
     "text": [
      "True\n"
     ]
    }
   ],
   "source": [
    "print(csll.search(2))"
   ]
  },
  {
   "cell_type": "code",
   "execution_count": 8,
   "metadata": {},
   "outputs": [],
   "source": [
    "csll.delete_node(2)"
   ]
  },
  {
   "cell_type": "code",
   "execution_count": 9,
   "metadata": {},
   "outputs": [
    {
     "name": "stdout",
     "output_type": "stream",
     "text": [
      "1 -> 3 -> HEAD\n"
     ]
    }
   ],
   "source": [
    "csll.print_list()"
   ]
  },
  {
   "cell_type": "code",
   "execution_count": null,
   "metadata": {},
   "outputs": [],
   "source": []
  }
 ],
 "metadata": {
  "kernelspec": {
   "display_name": "Python 3",
   "language": "python",
   "name": "python3"
  },
  "language_info": {
   "codemirror_mode": {
    "name": "ipython",
    "version": 3
   },
   "file_extension": ".py",
   "mimetype": "text/x-python",
   "name": "python",
   "nbconvert_exporter": "python",
   "pygments_lexer": "ipython3",
   "version": "3.12.0"
  }
 },
 "nbformat": 4,
 "nbformat_minor": 2
}
