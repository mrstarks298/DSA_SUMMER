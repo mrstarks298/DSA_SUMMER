{
 "cells": [
  {
   "cell_type": "code",
   "execution_count": null,
   "metadata": {},
   "outputs": [],
   "source": [
    "class Node:\n",
    "    def __init__(self,data=None):\n",
    "        self.next=None\n",
    "        self.data=data\n",
    "\n",
    "\n",
    "    \n"
   ]
  },
  {
   "cell_type": "markdown",
   "metadata": {},
   "source": [
    "addition element from head"
   ]
  },
  {
   "cell_type": "code",
   "execution_count": 2,
   "metadata": {},
   "outputs": [],
   "source": [
    "class Node:\n",
    "    def __init__(self,data=None):\n",
    "        self.next=None\n",
    "        self.data=data\n",
    "\n",
    "\n",
    "class SinglyLL:\n",
    "    def __init__(self):\n",
    "        self.size=0\n",
    "        self.head=None\n",
    "\n",
    "\n",
    "    def add_head(self,element):\n",
    "        new_node=Node(element)\n",
    "\n",
    "        if self.head==None:\n",
    "            self.head=new_node\n",
    "\n",
    "        else:\n",
    "            new_node.next=self.head\n",
    "            self.head=new_node\n",
    "\n",
    "        self.size+=1\n",
    "        \n"
   ]
  },
  {
   "cell_type": "code",
   "execution_count": 3,
   "metadata": {},
   "outputs": [],
   "source": [
    "\n",
    "sll=SinglyLL()\n",
    "\n",
    "sll.add_head(1)"
   ]
  },
  {
   "cell_type": "code",
   "execution_count": 4,
   "metadata": {},
   "outputs": [
    {
     "data": {
      "text/plain": [
       "1"
      ]
     },
     "execution_count": 4,
     "metadata": {},
     "output_type": "execute_result"
    }
   ],
   "source": [
    "sll.size"
   ]
  },
  {
   "cell_type": "code",
   "execution_count": 5,
   "metadata": {},
   "outputs": [],
   "source": [
    "sll.add_head(4)"
   ]
  },
  {
   "cell_type": "code",
   "execution_count": 6,
   "metadata": {},
   "outputs": [
    {
     "data": {
      "text/plain": [
       "2"
      ]
     },
     "execution_count": 6,
     "metadata": {},
     "output_type": "execute_result"
    }
   ],
   "source": [
    "sll.size"
   ]
  },
  {
   "cell_type": "markdown",
   "metadata": {},
   "source": [
    "add element from tail"
   ]
  },
  {
   "cell_type": "code",
   "execution_count": 15,
   "metadata": {},
   "outputs": [],
   "source": [
    "class Node:\n",
    "    def __init__(self,data=None):\n",
    "        self.next=None\n",
    "        self.data=data\n",
    "\n",
    "class SinglyLL:\n",
    "\n",
    "    def __init__(self):\n",
    "        self.size=0\n",
    "        self.head=None\n",
    "\n",
    "\n",
    "    def ad_tail(self,element):\n",
    "        new_node=Node(element)\n",
    "        if self.head==None:\n",
    "            self.head=new_node\n",
    "\n",
    "        else:\n",
    "            current=self.head\n",
    "            while current.next is not None:\n",
    "                current=current.next\n",
    "            current.next=new_node\n",
    "        self.size+=1\n",
    "\n",
    "\n",
    "        \n"
   ]
  },
  {
   "cell_type": "code",
   "execution_count": 17,
   "metadata": {},
   "outputs": [
    {
     "data": {
      "text/plain": [
       "0"
      ]
     },
     "execution_count": 17,
     "metadata": {},
     "output_type": "execute_result"
    }
   ],
   "source": [
    "sll=SinglyLL()\n",
    "sll.size"
   ]
  },
  {
   "cell_type": "code",
   "execution_count": 18,
   "metadata": {},
   "outputs": [],
   "source": [
    "sll.ad_tail(7)\n"
   ]
  },
  {
   "cell_type": "code",
   "execution_count": 13,
   "metadata": {},
   "outputs": [
    {
     "data": {
      "text/plain": [
       "1"
      ]
     },
     "execution_count": 13,
     "metadata": {},
     "output_type": "execute_result"
    }
   ],
   "source": [
    "sll.size"
   ]
  },
  {
   "cell_type": "code",
   "execution_count": 19,
   "metadata": {},
   "outputs": [],
   "source": [
    "sll.ad_tail(8)"
   ]
  },
  {
   "cell_type": "code",
   "execution_count": 20,
   "metadata": {},
   "outputs": [
    {
     "data": {
      "text/plain": [
       "2"
      ]
     },
     "execution_count": 20,
     "metadata": {},
     "output_type": "execute_result"
    }
   ],
   "source": [
    "sll.size"
   ]
  },
  {
   "cell_type": "markdown",
   "metadata": {},
   "source": [
    "delete element from head"
   ]
  },
  {
   "cell_type": "code",
   "execution_count": 21,
   "metadata": {},
   "outputs": [],
   "source": [
    "class Node():\n",
    "    def __init__(self,data=None):\n",
    "        self.next=None\n",
    "        self.data=data\n",
    "\n",
    "class SinglyLL:\n",
    "    def __init__(self):\n",
    "        self.head=None\n",
    "        self.size=0\n",
    "\n",
    "\n",
    "\n",
    "    def delet_head(self):\n",
    "        if self.head==None:\n",
    "            return \"yess it is empty\"\n",
    "        self.head=self.head.next\n",
    "        self.size=self.size-1\n",
    "        \n",
    "\n",
    "        "
   ]
  },
  {
   "cell_type": "code",
   "execution_count": 22,
   "metadata": {},
   "outputs": [
    {
     "data": {
      "text/plain": [
       "0"
      ]
     },
     "execution_count": 22,
     "metadata": {},
     "output_type": "execute_result"
    }
   ],
   "source": [
    "sll=SinglyLL()\n",
    "sll.size"
   ]
  },
  {
   "cell_type": "code",
   "execution_count": 23,
   "metadata": {},
   "outputs": [
    {
     "data": {
      "text/plain": [
       "'yess it is empty'"
      ]
     },
     "execution_count": 23,
     "metadata": {},
     "output_type": "execute_result"
    }
   ],
   "source": [
    "sll.delet_head()"
   ]
  },
  {
   "cell_type": "markdown",
   "metadata": {},
   "source": [
    "Search a node"
   ]
  },
  {
   "cell_type": "code",
   "execution_count": 26,
   "metadata": {},
   "outputs": [],
   "source": [
    "class Node:\n",
    "    def __init(self,data=None):\n",
    "        self.next=None\n",
    "        self.data=data\n",
    "\n",
    "class SinglyLL:\n",
    "    def __init__(Self):\n",
    "        self.head=None\n",
    "        self.size=0\n",
    "\n",
    "    def searchhing(self,value):\n",
    "        current=self.head\n",
    "        while current is not None:\n",
    "            if current.data==value:\n",
    "                return current\n",
    "            \n",
    "            current=current.next\n",
    "\n",
    "        return \"not found element\"\n",
    "\n",
    "\n",
    "\n",
    "\n"
   ]
  },
  {
   "cell_type": "markdown",
   "metadata": {},
   "source": [
    "deletion after "
   ]
  },
  {
   "cell_type": "code",
   "execution_count": 29,
   "metadata": {},
   "outputs": [],
   "source": [
    "class Node:\n",
    "    def __init__(self,data=None):\n",
    "        self.next=None\n",
    "        self.data=data\n",
    "class LL:\n",
    "    def __init__(self):\n",
    "        self.head=None\n",
    "        self.size=0\n",
    "    def delete_after(self,after):\n",
    "        if self.head==None:\n",
    "            return \"LL is empty\"\n",
    "        else:\n",
    "            current = self.head\n",
    "            while current is not None:\n",
    "                if current.data == after:\n",
    "                    if current.next is not None: \n",
    "                        current.next = current.next.next # skip one node by chnaing next pointer\n",
    "                        self.size -= 1 \n",
    "                current = current.next \n",
    "            return \" not found\"\n",
    "                        "
   ]
  },
  {
   "cell_type": "code",
   "execution_count": 31,
   "metadata": {},
   "outputs": [],
   "source": [
    "obj=LL()"
   ]
  },
  {
   "cell_type": "code",
   "execution_count": 32,
   "metadata": {},
   "outputs": [
    {
     "data": {
      "text/plain": [
       "0"
      ]
     },
     "execution_count": 32,
     "metadata": {},
     "output_type": "execute_result"
    }
   ],
   "source": [
    "obj.size"
   ]
  },
  {
   "cell_type": "code",
   "execution_count": null,
   "metadata": {},
   "outputs": [],
   "source": []
  }
 ],
 "metadata": {
  "kernelspec": {
   "display_name": "Python 3",
   "language": "python",
   "name": "python3"
  },
  "language_info": {
   "codemirror_mode": {
    "name": "ipython",
    "version": 3
   },
   "file_extension": ".py",
   "mimetype": "text/x-python",
   "name": "python",
   "nbconvert_exporter": "python",
   "pygments_lexer": "ipython3",
   "version": "3.12.0"
  }
 },
 "nbformat": 4,
 "nbformat_minor": 2
}
